{
 "metadata": {
  "name": "",
  "signature": "sha256:67bd9074b90490a4f9a72fdc6faf873abc1eb791d3f57dbe372fb698dc9f7947"
 },
 "nbformat": 3,
 "nbformat_minor": 0,
 "worksheets": [
  {
   "cells": [
    {
     "cell_type": "code",
     "collapsed": false,
     "input": [
      "\"\"\"\n",
      "    The three functions in this file are used as database\n",
      "    utilities. The database is used as a phone book.\n",
      "\"\"\"\n",
      "\n",
      "def DBcreate():\n",
      "    \"\"\" Create a new database with some data \"\"\"\n",
      "\n",
      "    # Ask the user for the file name of the database\n",
      "    filename = input('Enter the name of the file to write: ')\n",
      "\n",
      "    # Open the file for writing\n",
      "    dbFile = open(filename, 'w')\n",
      "\n",
      "    # Ask the user for the name of the new contact\n",
      "    name = input('Enter a name: ')\n",
      "\n",
      "    # Now we will use a while loop to repeatedly ask for new\n",
      "    # contacts.\n",
      "    # The while loop ends when the entered name is \"done\".\n",
      "    while name != 'done':\n",
      "        \n",
      "        # 1. Ask the user for the phone number\n",
      "        phone = input('Enter a phone number: ')\n",
      "\n",
      "        # 2. Write the new contact to the database file\n",
      "        dbFile.write(name + '\\n' + phone + '\\n')\n",
      "\n",
      "        # 3. Ask the user for the name of the new contact\n",
      "        name = input('Enter a name: ')\n",
      "\n",
      "    # Say \"Goodbye!\"\n",
      "    print('Goodbye!')\n",
      "\n",
      "    # Close the database file\n",
      "    dbFile.close()\n",
      "    \n",
      "\n",
      "    \n",
      "# This function, DBappend(), is already completed for you.\n",
      "# This is given to you. You do not need to change it.\n",
      "def DBappend():\n",
      "    \"\"\" Append new data to an existing database \"\"\"\n",
      "\n",
      "    # Keep trying until we have a valid file name\n",
      "    while True:\n",
      "        try:\n",
      "            # Ask the user for the file name of the database\n",
      "            fileName = input( \\\n",
      "                    \"Enter the name of the file to write: \" \\\n",
      "                    )\n",
      "            # Try reading the file with the given name\n",
      "            dbFile = open(fileName, \"r\")\n",
      "        except IOError: # If the file does not exist\n",
      "            print(\"There is no file by that name. Try again...\")\n",
      "        else: # No problem opening the file\n",
      "            # Close it\n",
      "            dbFile.close()\n",
      "            # Open the file again to append new contact data\n",
      "            dbFile = open(fileName, \"a\")\n",
      "            # Exit the infinite while loop\n",
      "            break\n",
      "\n",
      "    # Ask the user for the name of the new contact\n",
      "    name = input(\"Enter a name: \")\n",
      "\n",
      "    # Now we will use a while loop to repeatedly ask for new\n",
      "    # contacts.\n",
      "    # The while loop ends when the entered name is \"done\".\n",
      "    while name != \"done\":\n",
      "        # Ask the user for the phone number of the new contact\n",
      "        number = input(\"Enter a phone number: \")\n",
      "\n",
      "        # Write the new contact to the database file\n",
      "        dbFile.write(name + \"\\n\")\n",
      "        dbFile.write(number + \"\\n\")\n",
      "\n",
      "        # Ask the user for the name of the new contact\n",
      "        name = input(\"Enter a name: \")\n",
      "\n",
      "    # Say \"Goodbye!\"\n",
      "    print(\"Goodbye!\")\n",
      "\n",
      "    # Close the database file\n",
      "    dbFile.close()\n",
      "\n",
      "    \n",
      "def DBquery():\n",
      "    \"\"\" Retrieve contact data from the database \"\"\"\n",
      "\n",
      "    # Keep trying until we successfully read\n",
      "    # an existing database file\n",
      "    while True:\n",
      "        try:\n",
      "            # Ask the user for the file name of the database\n",
      "            filename = input('Enter the name of the file to read: ')\n",
      "            \n",
      "            # Try reading the file with the given name\n",
      "            dbFile = open(filename, 'r')\n",
      "        except IOError: # If the file does not exist\n",
      "            print(\"There is no file by that name. Try again...\")\n",
      "        else: # No problem opening the file\n",
      "            # Read all the lines from the file\n",
      "            records = dbFile.readlines()\n",
      "\n",
      "            # Close the file\n",
      "            dbFile.close()\n",
      "\n",
      "            break\n",
      "\n",
      "    # Create the phone book, an empty dictionary\n",
      "    phoneBook = {}\n",
      "    \n",
      "    \n",
      "    # Remove all the '\\n' from the data loaded from the file\n",
      "    for i in range(len(records)):\n",
      "        records[i] = records[i][0:-1]\n",
      "\n",
      "    # Now we will use a for loop to go through all the lines\n",
      "    # of the data loaded from the file (already done above),\n",
      "    # two lines at once. The first line is the contact name\n",
      "    # and the second line is the phone number.\n",
      "    # Complete this inside the for loop:\n",
      "    # Add new contact into the dictionary\n",
      "    for i in range(0, len(records), 2):\n",
      "        phoneBook[records[i]] = records[i + 1]\n",
      "\n",
      "    # Ask the user for the name to be searched for\n",
      "    name = input('Enter a name: ')\n",
      "\n",
      "    # Now we will use a while loop to repeatedly ask for names\n",
      "    # to be searched for.\n",
      "    # The while loop ends when the entered name is \"done\".\n",
      "    while name != 'done':\n",
      "        # Complete this inside the while loop:\n",
      "        # 1. Check if the contact name can be found in\n",
      "        #    the phone book\n",
      "        #    1.1. If yes, then show the phone number\n",
      "        #    1.2. If no, then show an error message\n",
      "        if name in phoneBook:\n",
      "            print(phoneBook[name])\n",
      "        else:\n",
      "            print('Sorry, there is no number for that name.')\n",
      "\n",
      "        # 2. Ask the user for the name to be searched for\n",
      "        name = input(\"Enter a name: \")\n",
      "\n",
      "    # Say \"Goodbye!\"\n",
      "    print(\"Goodbye!\")"
     ],
     "language": "python",
     "metadata": {},
     "outputs": [],
     "prompt_number": 1
    },
    {
     "cell_type": "code",
     "collapsed": false,
     "input": [
      "DBcreate()"
     ],
     "language": "python",
     "metadata": {},
     "outputs": [
      {
       "name": "stdout",
       "output_type": "stream",
       "stream": "stdout",
       "text": [
        "Enter the name of the file to write: myfriends\n"
       ]
      },
      {
       "name": "stdout",
       "output_type": "stream",
       "stream": "stdout",
       "text": [
        "Enter a name: David\n"
       ]
      },
      {
       "name": "stdout",
       "output_type": "stream",
       "stream": "stdout",
       "text": [
        "Enter a phone number: 1234 5678\n"
       ]
      },
      {
       "name": "stdout",
       "output_type": "stream",
       "stream": "stdout",
       "text": [
        "Enter a name: Sarah\n"
       ]
      },
      {
       "name": "stdout",
       "output_type": "stream",
       "stream": "stdout",
       "text": [
        "Enter a phone number: 9876 5432\n"
       ]
      },
      {
       "name": "stdout",
       "output_type": "stream",
       "stream": "stdout",
       "text": [
        "Enter a name: done\n"
       ]
      },
      {
       "output_type": "stream",
       "stream": "stdout",
       "text": [
        "Goodbye!\n"
       ]
      }
     ],
     "prompt_number": 2
    },
    {
     "cell_type": "code",
     "collapsed": false,
     "input": [
      "DBappend()"
     ],
     "language": "python",
     "metadata": {},
     "outputs": [
      {
       "name": "stdout",
       "output_type": "stream",
       "stream": "stdout",
       "text": [
        "Enter the name of the file to write: blah\n"
       ]
      },
      {
       "output_type": "stream",
       "stream": "stdout",
       "text": [
        "There is no file by that name. Try again...\n"
       ]
      },
      {
       "name": "stdout",
       "output_type": "stream",
       "stream": "stdout",
       "text": [
        "Enter the name of the file to write: myfriends\n"
       ]
      },
      {
       "name": "stdout",
       "output_type": "stream",
       "stream": "stdout",
       "text": [
        "Enter a name: Esther\n"
       ]
      },
      {
       "name": "stdout",
       "output_type": "stream",
       "stream": "stdout",
       "text": [
        "Enter a phone number: 8888 8888\n"
       ]
      },
      {
       "name": "stdout",
       "output_type": "stream",
       "stream": "stdout",
       "text": [
        "Enter a name: done\n"
       ]
      },
      {
       "output_type": "stream",
       "stream": "stdout",
       "text": [
        "Goodbye!\n"
       ]
      }
     ],
     "prompt_number": 3
    },
    {
     "cell_type": "code",
     "collapsed": false,
     "input": [
      "DBquery()"
     ],
     "language": "python",
     "metadata": {},
     "outputs": [
      {
       "name": "stdout",
       "output_type": "stream",
       "stream": "stdout",
       "text": [
        "Enter the name of the file to read: myfriends\n"
       ]
      },
      {
       "name": "stdout",
       "output_type": "stream",
       "stream": "stdout",
       "text": [
        "Enter a name: Sarah\n"
       ]
      },
      {
       "output_type": "stream",
       "stream": "stdout",
       "text": [
        "9876 5432\n"
       ]
      },
      {
       "name": "stdout",
       "output_type": "stream",
       "stream": "stdout",
       "text": [
        "Enter a name: Esther\n"
       ]
      },
      {
       "output_type": "stream",
       "stream": "stdout",
       "text": [
        "8888 8888\n"
       ]
      },
      {
       "name": "stdout",
       "output_type": "stream",
       "stream": "stdout",
       "text": [
        "Enter a name: Edward\n"
       ]
      },
      {
       "output_type": "stream",
       "stream": "stdout",
       "text": [
        "Sorry, there is no number for that name.\n"
       ]
      },
      {
       "name": "stdout",
       "output_type": "stream",
       "stream": "stdout",
       "text": [
        "Enter a name: done\n"
       ]
      },
      {
       "output_type": "stream",
       "stream": "stdout",
       "text": [
        "Goodbye!\n"
       ]
      }
     ],
     "prompt_number": 4
    }
   ],
   "metadata": {}
  }
 ]
}