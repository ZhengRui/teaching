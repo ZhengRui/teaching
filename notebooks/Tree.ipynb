{
 "metadata": {
  "name": "",
  "signature": "sha256:a3a081f1f11a89f8c6b6c4be8dceba20662b02557f6acd6b40a0c4d682a25e5e"
 },
 "nbformat": 3,
 "nbformat_minor": 0,
 "worksheets": [
  {
   "cells": [
    {
     "cell_type": "code",
     "collapsed": false,
     "input": [
      "from turtle import *\n",
      "\n",
      "# Turn left for 90 degrees\n",
      "left(90)\n",
      "\n",
      "def tree(trunkLength, currentDepth, maximumDepth):\n",
      "    \"\"\" Draw a tree with turtle graphics recursively. \"\"\"\n",
      "\n",
      "    speed(10)\n",
      "    # Draw a trunk\n",
      "    forward(trunkLength)\n",
      "\n",
      "    if currentDepth < maximumDepth:\n",
      "        # Turn left for 'angle' degrees\n",
      "        left(30)\n",
      "\n",
      "        # Recursively draw a smaller tree\n",
      "        tree(trunkLength / 2, currentDepth + 1, maximumDepth)\n",
      "\n",
      "        # Turn right for 2 * 'angle' degrees\n",
      "        right(60)\n",
      "\n",
      "        # Recursively draw another smaller tree\n",
      "        tree(trunkLength / 2, currentDepth + 1, maximumDepth)\n",
      "\n",
      "        # Turn left for 'angle' degrees, so that the\n",
      "        # turtle faces its original starting direction\n",
      "        left(30)\n",
      "\n",
      "    # Return to the original starting position\n",
      "    left(180)\n",
      "    forward(trunkLength)\n",
      "    left(180)\n",
      "\n",
      "reset()\n",
      "left(90)\n",
      "tree(100, 0, 5)"
     ],
     "language": "python",
     "metadata": {},
     "outputs": [],
     "prompt_number": 1
    }
   ],
   "metadata": {}
  }
 ]
}