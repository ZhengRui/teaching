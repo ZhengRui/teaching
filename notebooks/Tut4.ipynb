{
 "metadata": {
  "name": "",
  "signature": "sha256:0c3debf367140b74f7c5da575677cdbf96915bc55b8a0cca6f62a0d551071247"
 },
 "nbformat": 3,
 "nbformat_minor": 0,
 "worksheets": [
  {
   "cells": [
    {
     "cell_type": "code",
     "collapsed": false,
     "input": [
      "# basic dict\n",
      "\n",
      "cantonese = {}\n",
      "cantonese[\"thanks\"] = \"m goi\"\n",
      "cantonese[\"hello\"] = \"lei ho\"\n",
      "\n",
      "cantonese[\"hello\"]"
     ],
     "language": "python",
     "metadata": {},
     "outputs": [
      {
       "metadata": {},
       "output_type": "pyout",
       "prompt_number": 1,
       "text": [
        "'lei ho'"
       ]
      }
     ],
     "prompt_number": 1
    },
    {
     "cell_type": "code",
     "collapsed": false,
     "input": [
      "cantonese[\"goodbye\"]"
     ],
     "language": "python",
     "metadata": {},
     "outputs": [
      {
       "ename": "KeyError",
       "evalue": "'goodbye'",
       "output_type": "pyerr",
       "traceback": [
        "\u001b[1;31m---------------------------------------------------------------------------\u001b[0m\n\u001b[1;31mKeyError\u001b[0m                                  Traceback (most recent call last)",
        "\u001b[1;32m<ipython-input-2-357b508f9b83>\u001b[0m in \u001b[0;36m<module>\u001b[1;34m()\u001b[0m\n\u001b[1;32m----> 1\u001b[1;33m \u001b[0mcantonese\u001b[0m\u001b[1;33m[\u001b[0m\u001b[1;34m\"goodbye\"\u001b[0m\u001b[1;33m]\u001b[0m\u001b[1;33m\u001b[0m\u001b[0m\n\u001b[0m",
        "\u001b[1;31mKeyError\u001b[0m: 'goodbye'"
       ]
      }
     ],
     "prompt_number": 2
    },
    {
     "cell_type": "code",
     "collapsed": false,
     "input": [
      "cantonese"
     ],
     "language": "python",
     "metadata": {},
     "outputs": [
      {
       "metadata": {},
       "output_type": "pyout",
       "prompt_number": 3,
       "text": [
        "{'hello': 'lei ho', 'thanks': 'm goi'}"
       ]
      }
     ],
     "prompt_number": 3
    },
    {
     "cell_type": "code",
     "collapsed": false,
     "input": [
      "# another way\n",
      "cantonese = {'hello': 'lei ho', 'thanks': 'm goi'}\n",
      "cantonese.keys()"
     ],
     "language": "python",
     "metadata": {},
     "outputs": [
      {
       "metadata": {},
       "output_type": "pyout",
       "prompt_number": 4,
       "text": [
        "dict_keys(['hello', 'thanks'])"
       ]
      }
     ],
     "prompt_number": 4
    },
    {
     "cell_type": "code",
     "collapsed": false,
     "input": [
      "# ask if there is a value associated with a given key\n",
      "print(\"thanks\" in cantonese, \"cake\" in cantonese)"
     ],
     "language": "python",
     "metadata": {},
     "outputs": [
      {
       "output_type": "stream",
       "stream": "stdout",
       "text": [
        "True False\n"
       ]
      }
     ],
     "prompt_number": 5
    },
    {
     "cell_type": "code",
     "collapsed": false,
     "input": [
      "from random import *\n",
      "\n",
      "def play():\n",
      "    \"\"\" This is a guessing game! Try to guess the computer's\n",
      "    number which is an integer between 1 and 99. \"\"\"\n",
      "\n",
      "    print(\"Welcome!\")\n",
      "\n",
      "    # choice is from random package\n",
      "    secret = choice(range(1, 100))\n",
      "    numGuesses = 0\n",
      "    userGuess = 0\n",
      "\n",
      "    while userGuess != secret:\n",
      "\n",
      "        userGuess = input(\"Enter your guess: \")\n",
      "        userGuess = int(userGuess)\n",
      "        numGuesses += 1\n",
      "\n",
      "        if userGuess == secret:\n",
      "            print(\"You got it in\", numGuesses, \"guesses!\")\n",
      "        elif userGuess > secret:\n",
      "            print(\"Too high\")\n",
      "        else:\n",
      "            print(\"Too low\")\n",
      "\n",
      "    print(\"Thanks for playing\")\n",
      "    \n",
      "play()"
     ],
     "language": "python",
     "metadata": {},
     "outputs": [
      {
       "output_type": "stream",
       "stream": "stdout",
       "text": [
        "Welcome!\n"
       ]
      },
      {
       "name": "stdout",
       "output_type": "stream",
       "stream": "stdout",
       "text": [
        "Enter your guess: 50\n"
       ]
      },
      {
       "output_type": "stream",
       "stream": "stdout",
       "text": [
        "Too low\n"
       ]
      },
      {
       "name": "stdout",
       "output_type": "stream",
       "stream": "stdout",
       "text": [
        "Enter your guess: 75\n"
       ]
      },
      {
       "output_type": "stream",
       "stream": "stdout",
       "text": [
        "Too low\n"
       ]
      },
      {
       "name": "stdout",
       "output_type": "stream",
       "stream": "stdout",
       "text": [
        "Enter your guess: 87\n"
       ]
      },
      {
       "output_type": "stream",
       "stream": "stdout",
       "text": [
        "Too low\n"
       ]
      },
      {
       "name": "stdout",
       "output_type": "stream",
       "stream": "stdout",
       "text": [
        "Enter your guess: 94\n"
       ]
      },
      {
       "output_type": "stream",
       "stream": "stdout",
       "text": [
        "Too low\n"
       ]
      },
      {
       "name": "stdout",
       "output_type": "stream",
       "stream": "stdout",
       "text": [
        "Enter your guess: 98\n"
       ]
      },
      {
       "output_type": "stream",
       "stream": "stdout",
       "text": [
        "Too low\n"
       ]
      },
      {
       "name": "stdout",
       "output_type": "stream",
       "stream": "stdout",
       "text": [
        "Enter your guess: 99\n"
       ]
      },
      {
       "output_type": "stream",
       "stream": "stdout",
       "text": [
        "You got it in 6 guesses!\n",
        "Thanks for playing\n"
       ]
      }
     ],
     "prompt_number": 6
    },
    {
     "cell_type": "code",
     "collapsed": false,
     "input": [
      "# try-except-else for error handling\n",
      "while True:\n",
      "    try:\n",
      "        ageString = input(\"What is your age? \")\n",
      "        ageNum = int(ageString)\n",
      "    except ValueError:\n",
      "        print(\"You entered something that is not an integer.\")\n",
      "        print(\"Try again.\")\n",
      "    else:\n",
      "        print(\"Thank you!\")\n",
      "        break"
     ],
     "language": "python",
     "metadata": {},
     "outputs": [
      {
       "name": "stdout",
       "output_type": "stream",
       "stream": "stdout",
       "text": [
        "What is your age? i don't know\n"
       ]
      },
      {
       "output_type": "stream",
       "stream": "stdout",
       "text": [
        "You entered something that is not an integer.\n",
        "Try again.\n"
       ]
      },
      {
       "name": "stdout",
       "output_type": "stream",
       "stream": "stdout",
       "text": [
        "What is your age? zero\n"
       ]
      },
      {
       "output_type": "stream",
       "stream": "stdout",
       "text": [
        "You entered something that is not an integer.\n",
        "Try again.\n"
       ]
      },
      {
       "name": "stdout",
       "output_type": "stream",
       "stream": "stdout",
       "text": [
        "What is your age? 100\n"
       ]
      },
      {
       "output_type": "stream",
       "stream": "stdout",
       "text": [
        "Thank you!\n"
       ]
      }
     ],
     "prompt_number": 7
    },
    {
     "cell_type": "code",
     "collapsed": false,
     "input": [
      "# more exception types\n",
      "def find_ratio():\n",
      "    while True:\n",
      "        try:\n",
      "            numerator = input(\"Enter a numerator: \")\n",
      "            denominator = input(\"Enter a denominator: \")\n",
      "            ratio = int(numerator)/int(denominator)\n",
      "        except ValueError:\n",
      "            print(\"You entered something other than a number\")\n",
      "            print(\"for the numerator or denominator. Try again.\")\n",
      "        except ZeroDivisionError:\n",
      "            print(\"You entered zero for the denominator! Try again.\")\n",
      "        else:\n",
      "            return ratio\n",
      "    \n",
      "find_ratio()"
     ],
     "language": "python",
     "metadata": {},
     "outputs": [
      {
       "name": "stdout",
       "output_type": "stream",
       "stream": "stdout",
       "text": [
        "Enter a numerator: numerator\n"
       ]
      },
      {
       "name": "stdout",
       "output_type": "stream",
       "stream": "stdout",
       "text": [
        "Enter a denominator: denominator\n"
       ]
      },
      {
       "output_type": "stream",
       "stream": "stdout",
       "text": [
        "You entered something other than a number\n",
        "for the numerator or denominator. Try again.\n"
       ]
      },
      {
       "name": "stdout",
       "output_type": "stream",
       "stream": "stdout",
       "text": [
        "Enter a numerator: 1\n"
       ]
      },
      {
       "name": "stdout",
       "output_type": "stream",
       "stream": "stdout",
       "text": [
        "Enter a denominator: denominator\n"
       ]
      },
      {
       "output_type": "stream",
       "stream": "stdout",
       "text": [
        "You entered something other than a number\n",
        "for the numerator or denominator. Try again.\n"
       ]
      },
      {
       "name": "stdout",
       "output_type": "stream",
       "stream": "stdout",
       "text": [
        "Enter a numerator: 1\n"
       ]
      },
      {
       "name": "stdout",
       "output_type": "stream",
       "stream": "stdout",
       "text": [
        "Enter a denominator: 0\n"
       ]
      },
      {
       "output_type": "stream",
       "stream": "stdout",
       "text": [
        "You entered zero for the denominator! Try again.\n"
       ]
      },
      {
       "name": "stdout",
       "output_type": "stream",
       "stream": "stdout",
       "text": [
        "Enter a numerator: 1\n"
       ]
      },
      {
       "name": "stdout",
       "output_type": "stream",
       "stream": "stdout",
       "text": [
        "Enter a denominator: 2\n"
       ]
      },
      {
       "metadata": {},
       "output_type": "pyout",
       "prompt_number": 8,
       "text": [
        "0.5"
       ]
      }
     ],
     "prompt_number": 8
    },
    {
     "cell_type": "code",
     "collapsed": false,
     "input": [
      "# write to and read from a file\n",
      "\n",
      "def writeString():\n",
      "    \"\"\" This function asks the user for a string and a file\n",
      "    name and then makes a new file and stores that string in\n",
      "    the file. \"\"\"\n",
      "\n",
      "    mystring = input(\"Enter a string that you want to save: \")\n",
      "    filename = input(\"Enter a name of a file for writing: \")\n",
      "    myfile = open(filename, \"w\") # open file for writing\n",
      "    myfile.write(mystring) # write the string\n",
      "    print('finish writing')\n",
      "    myfile.close() # close the file\n",
      "\n",
      "def readString():\n",
      "    \"\"\" This function asks the user for a file name and then\n",
      "    reads the contents of that file and returns it. \"\"\"\n",
      "\n",
      "    filename = input(\"Enter a name of a file for reading: \")\n",
      "    myfile = open(filename, \"r\") # open file for reading\n",
      "    mystring = myfile.read() # read contents into mystring\n",
      "    myfile.close() # close file\n",
      "\n",
      "    return mystring # return the string\n",
      "\n",
      "writeString()\n",
      "readString()"
     ],
     "language": "python",
     "metadata": {},
     "outputs": [
      {
       "name": "stdout",
       "output_type": "stream",
       "stream": "stdout",
       "text": [
        "Enter a string that you want to save: Python Writing Test\n"
       ]
      },
      {
       "name": "stdout",
       "output_type": "stream",
       "stream": "stdout",
       "text": [
        "Enter a name of a file for writing: writetest.txt\n"
       ]
      },
      {
       "output_type": "stream",
       "stream": "stdout",
       "text": [
        "finish writing\n"
       ]
      },
      {
       "name": "stdout",
       "output_type": "stream",
       "stream": "stdout",
       "text": [
        "Enter a name of a file for reading: writetest.txt\n"
       ]
      },
      {
       "metadata": {},
       "output_type": "pyout",
       "prompt_number": 9,
       "text": [
        "'Python Writing Test'"
       ]
      }
     ],
     "prompt_number": 9
    },
    {
     "cell_type": "code",
     "collapsed": false,
     "input": [
      "# catch exception if filename is wrong for reading\n",
      "\n",
      "def readString():\n",
      "    \"\"\" This function asks the user for a file name and then\n",
      "    reads the contents of that file and returns it. \"\"\"\n",
      "\n",
      "    try:\n",
      "        filename = input(\"Enter a name of a file: \")\n",
      "        myfile = open(filename, \"r\")\n",
      "    except IOError:\n",
      "        print(\"There is no file with that name.\")\n",
      "    else:\n",
      "        mystring = myfile.read()\n",
      "        myfile.close()\n",
      "        return mystring\n",
      "    \n",
      "readString()"
     ],
     "language": "python",
     "metadata": {},
     "outputs": [
      {
       "name": "stdout",
       "output_type": "stream",
       "stream": "stdout",
       "text": [
        "Enter a name of a file: randomfile\n"
       ]
      },
      {
       "output_type": "stream",
       "stream": "stdout",
       "text": [
        "There is no file with that name.\n"
       ]
      }
     ],
     "prompt_number": 10
    },
    {
     "cell_type": "code",
     "collapsed": false,
     "input": [
      "# write multiple lines to a file\n",
      "\n",
      "def writeMultipleStrings():\n",
      "    \"\"\" This function asks the user for input strings and writes\n",
      "    these strings to a file until an empty string is entered \"\"\"\n",
      "\n",
      "    filename = input(\"Enter a name of a file: \")\n",
      "    myfile = open(filename, \"w\")\n",
      "    mystring = input(\"Enter a string: \")\n",
      "\n",
      "    while mystring != \"\":\n",
      "        myfile.write(mystring + \"\\n\")\n",
      "        mystring = input(\"Enter a string: \")\n",
      "\n",
      "    myfile.close()\n",
      "    \n",
      "writeMultipleStrings()"
     ],
     "language": "python",
     "metadata": {},
     "outputs": [
      {
       "name": "stdout",
       "output_type": "stream",
       "stream": "stdout",
       "text": [
        "Enter a name of a file: writetest2.txt\n"
       ]
      },
      {
       "name": "stdout",
       "output_type": "stream",
       "stream": "stdout",
       "text": [
        "Enter a string: first line\n"
       ]
      },
      {
       "name": "stdout",
       "output_type": "stream",
       "stream": "stdout",
       "text": [
        "Enter a string: second line\n"
       ]
      },
      {
       "name": "stdout",
       "output_type": "stream",
       "stream": "stdout",
       "text": [
        "Enter a string: third line\n"
       ]
      },
      {
       "name": "stdout",
       "output_type": "stream",
       "stream": "stdout",
       "text": [
        "Enter a string: last line\n"
       ]
      },
      {
       "name": "stdout",
       "output_type": "stream",
       "stream": "stdout",
       "text": [
        "Enter a string: \n"
       ]
      }
     ],
     "prompt_number": 11
    },
    {
     "cell_type": "code",
     "collapsed": false,
     "input": [
      "# read lines from a file\n",
      "\n",
      "def readMultipleStrings():\n",
      "    \"\"\" This function asks the user for a file name and reads\n",
      "    the string in that file into a list. \"\"\"\n",
      "\n",
      "    try:\n",
      "        filename = input(\"Enter a name of a file: \")\n",
      "        myfile = open(filename, \"r\")\n",
      "    except IOError:\n",
      "        print(\"There is no file with that name.\")\n",
      "    else:\n",
      "        mylist = myfile.readlines()\n",
      "        myfile.close()\n",
      "        return mylist\n",
      "\n",
      "readMultipleStrings()"
     ],
     "language": "python",
     "metadata": {},
     "outputs": [
      {
       "name": "stdout",
       "output_type": "stream",
       "stream": "stdout",
       "text": [
        "Enter a name of a file: writetest2.txt\n"
       ]
      },
      {
       "metadata": {},
       "output_type": "pyout",
       "prompt_number": 12,
       "text": [
        "['first line\\n', 'second line\\n', 'third line\\n', 'last line\\n']"
       ]
      }
     ],
     "prompt_number": 12
    }
   ],
   "metadata": {}
  }
 ]
}