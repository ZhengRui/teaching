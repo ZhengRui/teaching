{
 "metadata": {
  "name": "",
  "signature": "sha256:0888c353365804feaeb33095cbb221851e63b6f6a55304a7e3e45bbb526b51f9"
 },
 "nbformat": 3,
 "nbformat_minor": 0,
 "worksheets": [
  {
   "cells": [
    {
     "cell_type": "code",
     "collapsed": false,
     "input": [
      "# Function\n",
      "\n",
      "def double(x):\n",
      "    \n",
      "    return 2 * x\n",
      "\n",
      "double(4)"
     ],
     "language": "python",
     "metadata": {},
     "outputs": [
      {
       "metadata": {},
       "output_type": "pyout",
       "prompt_number": 2,
       "text": [
        "8"
       ]
      }
     ],
     "prompt_number": 2
    },
    {
     "cell_type": "code",
     "collapsed": false,
     "input": [
      "# Comment style 1\n",
      "\n",
      "def like(stuff):\n",
      "    # This function takes a string called stuff as input\n",
      "    # and returns a new string that has \"I like \" in\n",
      "    # front of the input string\n",
      "\n",
      "    return \"I like \" + stuff # Here is the return statement!\n",
      "\n",
      "like('python!')"
     ],
     "language": "python",
     "metadata": {},
     "outputs": [
      {
       "metadata": {},
       "output_type": "pyout",
       "prompt_number": 3,
       "text": [
        "'I like python!'"
       ]
      }
     ],
     "prompt_number": 3
    },
    {
     "cell_type": "code",
     "collapsed": false,
     "input": [
      "# Comment style 2\n",
      "\n",
      "def like(stuff):\n",
      "    \"\"\" This function takes a string called stuff as input and\n",
      "    returns a new string that has 'I like ' in front of the\n",
      "    input string \"\"\"\n",
      "\n",
      "    return \"I like \" + stuff # Here is the return statement!\n",
      "\n",
      "like('python!')"
     ],
     "language": "python",
     "metadata": {},
     "outputs": [
      {
       "metadata": {},
       "output_type": "pyout",
       "prompt_number": 4,
       "text": [
        "'I like python!'"
       ]
      }
     ],
     "prompt_number": 4
    },
    {
     "cell_type": "code",
     "collapsed": false,
     "input": [
      "# If and else simple way\n",
      "\n",
      "def big(x):\n",
      "    \"\"\" Takes a number x as input and returns a string\n",
      "    indicating whether the number is big or small. \"\"\"\n",
      "\n",
      "    if x >= 100:\n",
      "        return \"That is a big number!\"\n",
      "    else:\n",
      "        return \"That is a small number.\"\n",
      "    \n",
      "big(10)"
     ],
     "language": "python",
     "metadata": {},
     "outputs": [
      {
       "metadata": {},
       "output_type": "pyout",
       "prompt_number": 5,
       "text": [
        "'That is a small number.'"
       ]
      }
     ],
     "prompt_number": 5
    },
    {
     "cell_type": "code",
     "collapsed": false,
     "input": [
      "# If and else smart way\n",
      "\n",
      "def big(x):\n",
      "    \"\"\" Takes a number x as input and returns a string\n",
      "    indicating whether the number is big or small. \"\"\"\n",
      "\n",
      "    if x >= 100:\n",
      "        return \"That is a big number!\"\n",
      "    return \"That is a small number.\"\n",
      "\n",
      "big(1000)"
     ],
     "language": "python",
     "metadata": {},
     "outputs": [
      {
       "metadata": {},
       "output_type": "pyout",
       "prompt_number": 6,
       "text": [
        "'That is a big number!'"
       ]
      }
     ],
     "prompt_number": 6
    },
    {
     "cell_type": "code",
     "collapsed": false,
     "input": [
      "# Chickens and Aardvarks\n",
      "\n",
      "def a_or_an(noun):\n",
      "    \"\"\" Takes a word (string) as input and returns a new string\n",
      "    that adds 'a' or 'an' as appropriate. \"\"\"\n",
      "\n",
      "    if noun[0] == 'a' or noun[0] == 'e' or noun[0] == 'i' or \\\n",
      "        noun[0] == 'o' or noun[0] == 'u':\n",
      "        return \"an \" + noun\n",
      "    else:\n",
      "        return \"a \" + noun\n",
      "    \n",
      "print(a_or_an('apple'), a_or_an('banana'))"
     ],
     "language": "python",
     "metadata": {},
     "outputs": [
      {
       "output_type": "stream",
       "stream": "stdout",
       "text": [
        "an apple a banana\n"
       ]
      }
     ],
     "prompt_number": 7
    },
    {
     "cell_type": "code",
     "collapsed": false,
     "input": [
      "# Silly function (elif usage, single line, param num)\n",
      "\n",
      "def silly(x, y):\n",
      "    \"\"\" This function takes two numbers as input and does\n",
      "    something silly and useless. \"\"\"\n",
      "\n",
      "    if x < y:\n",
      "        z = 2 * y\n",
      "        return z\n",
      "    elif x == y: return 3 * y\n",
      "    else:\n",
      "        return 0"
     ],
     "language": "python",
     "metadata": {},
     "outputs": [],
     "prompt_number": 8
    },
    {
     "cell_type": "code",
     "collapsed": false,
     "input": [
      "# Variable scope, y lives inside the goofy\n",
      "\n",
      "def goofy(x):\n",
      "    y = 5\n",
      "    x = x + y\n",
      "    return x\n",
      "\n",
      "print(goofy(3), y)"
     ],
     "language": "python",
     "metadata": {},
     "outputs": [
      {
       "ename": "NameError",
       "evalue": "name 'y' is not defined",
       "output_type": "pyerr",
       "traceback": [
        "\u001b[1;31m---------------------------------------------------------------------------\u001b[0m\n\u001b[1;31mNameError\u001b[0m                                 Traceback (most recent call last)",
        "\u001b[1;32m<ipython-input-9-36f86d3f9cb0>\u001b[0m in \u001b[0;36m<module>\u001b[1;34m()\u001b[0m\n\u001b[0;32m      6\u001b[0m     \u001b[1;32mreturn\u001b[0m \u001b[0mx\u001b[0m\u001b[1;33m\u001b[0m\u001b[0m\n\u001b[0;32m      7\u001b[0m \u001b[1;33m\u001b[0m\u001b[0m\n\u001b[1;32m----> 8\u001b[1;33m \u001b[0mprint\u001b[0m\u001b[1;33m(\u001b[0m\u001b[0mgoofy\u001b[0m\u001b[1;33m(\u001b[0m\u001b[1;36m3\u001b[0m\u001b[1;33m)\u001b[0m\u001b[1;33m,\u001b[0m \u001b[0my\u001b[0m\u001b[1;33m)\u001b[0m\u001b[1;33m\u001b[0m\u001b[0m\n\u001b[0m",
        "\u001b[1;31mNameError\u001b[0m: name 'y' is not defined"
       ]
      }
     ],
     "prompt_number": 9
    },
    {
     "cell_type": "code",
     "collapsed": false,
     "input": [
      "# Global variable, y lives in a file\n",
      "\n",
      "y = 5\n",
      "\n",
      "def goofy(x):\n",
      "    x = x + y\n",
      "    return x\n",
      "\n",
      "print(goofy(3), y)"
     ],
     "language": "python",
     "metadata": {},
     "outputs": [
      {
       "output_type": "stream",
       "stream": "stdout",
       "text": [
        "8 5\n"
       ]
      }
     ],
     "prompt_number": 10
    },
    {
     "cell_type": "code",
     "collapsed": false,
     "input": [
      "# Global var become local var inside a func\n",
      "\n",
      "x = 10\n",
      "def double(x):\n",
      "    x = x * 2\n",
      "    return x\n",
      "\n",
      "print(double(x))\n",
      "print(x)"
     ],
     "language": "python",
     "metadata": {},
     "outputs": [
      {
       "output_type": "stream",
       "stream": "stdout",
       "text": [
        "20\n",
        "10\n"
       ]
      }
     ],
     "prompt_number": 14
    },
    {
     "cell_type": "code",
     "collapsed": false,
     "input": [
      "# Some methods inside func may change muttable global var\n",
      "\n",
      "def A(x):\n",
      "    x.append(42)\n",
      "    return x\n",
      "\n",
      "l = [1, 2, 3]\n",
      "print(l)\n",
      "print(A(l))\n",
      "print(l)"
     ],
     "language": "python",
     "metadata": {},
     "outputs": [
      {
       "output_type": "stream",
       "stream": "stdout",
       "text": [
        "[1, 2, 3]\n",
        "[1, 2, 3, 42]\n",
        "[1, 2, 3, 42]\n"
       ]
      }
     ],
     "prompt_number": 15
    },
    {
     "cell_type": "code",
     "collapsed": false,
     "input": [
      "# another example\n",
      "\n",
      "def B(x):\n",
      "    x = [1, 2, 3]\n",
      "    x.append(42)\n",
      "    return x\n",
      "\n",
      "l = [4, 5, 6]\n",
      "print(l)\n",
      "print(B(l))\n",
      "print(l)"
     ],
     "language": "python",
     "metadata": {},
     "outputs": [
      {
       "output_type": "stream",
       "stream": "stdout",
       "text": [
        "[4, 5, 6]\n",
        "[1, 2, 3, 42]\n",
        "[4, 5, 6]\n"
       ]
      }
     ],
     "prompt_number": 16
    },
    {
     "cell_type": "code",
     "collapsed": false,
     "input": [
      "# loopy function\n",
      "\n",
      "def loopy():\n",
      "    \"\"\" This function takes no input and simply returns the sum\n",
      "    of the integers between 1 and 10. \"\"\"\n",
      "\n",
      "    sum = 0 # Initialize a counter to 0\n",
      "    for i in [1, 2, 3, 4, 5, 6, 7, 8, 9, 10]: # change to range(1,11) later\n",
      "        sum = sum + i # update the sum, support +=, but not ++\n",
      "    return sum # return the sum\n",
      "\n",
      "loopy()"
     ],
     "language": "python",
     "metadata": {},
     "outputs": [
      {
       "metadata": {},
       "output_type": "pyout",
       "prompt_number": 17,
       "text": [
        "55"
       ]
      }
     ],
     "prompt_number": 17
    },
    {
     "cell_type": "code",
     "collapsed": false,
     "input": [
      "# built in sum \n",
      "print(sum([1,2,3,4]))\n",
      "\n",
      "# define sum\n",
      "\n",
      "def oursum(mylist):\n",
      "    \"\"\" Takes a list of numbers as input and returns the sum\n",
      "    of the items in that list. \"\"\"\n",
      "\n",
      "    total = 0\n",
      "    for number in mylist:\n",
      "        total = total + number\n",
      "\n",
      "    return total\n",
      "\n",
      "print(oursum([2,3,4,5]))"
     ],
     "language": "python",
     "metadata": {},
     "outputs": [
      {
       "output_type": "stream",
       "stream": "stdout",
       "text": [
        "10\n",
        "14\n"
       ]
      }
     ],
     "prompt_number": 18
    },
    {
     "cell_type": "code",
     "collapsed": false,
     "input": [
      "# count good way\n",
      "\n",
      "def count(L, X):\n",
      "    \"\"\" Takes a list and an item as input and returns the number\n",
      "    of times that the item is found in the list. \"\"\"\n",
      "\n",
      "    counter = 0\n",
      "    for item in L:\n",
      "        if item == X:\n",
      "            counter = counter + 1\n",
      "\n",
      "    return counter\n",
      "\n",
      "count([2,3,4,5,4,6,4,3], 4)"
     ],
     "language": "python",
     "metadata": {},
     "outputs": [
      {
       "metadata": {},
       "output_type": "pyout",
       "prompt_number": 23,
       "text": [
        "3"
       ]
      }
     ],
     "prompt_number": 23
    },
    {
     "cell_type": "code",
     "collapsed": false,
     "input": [
      "# count not so good way but sometimes necessary\n",
      "\n",
      "def count(L, X):\n",
      "    \"\"\" Takes a list and an item as input and returns the number\n",
      "    of times that the item is found in the list. \"\"\"\n",
      "\n",
      "    counter = 0\n",
      "    for i in range(0, len(L)):\n",
      "        if L[i] == X:\n",
      "            counter = counter + 1\n",
      "\n",
      "    return counter\n",
      "\n",
      "count([2,3,4,5,4,6,4,3], 4)"
     ],
     "language": "python",
     "metadata": {},
     "outputs": [
      {
       "metadata": {},
       "output_type": "pyout",
       "prompt_number": 24,
       "text": [
        "3"
       ]
      }
     ],
     "prompt_number": 24
    },
    {
     "cell_type": "code",
     "collapsed": false,
     "input": [
      "# func call func\n",
      "\n",
      "def sum(mylist):\n",
      "    \"\"\" Takes a list of numbers as input and returns the sum\n",
      "    of the items in that list. \"\"\"\n",
      "\n",
      "    total = 0\n",
      "    for number in mylist:\n",
      "        total = total + number\n",
      "\n",
      "    return total\n",
      "\n",
      "def shoptotal(shoplist):\n",
      "    \"\"\" Takes a list of lists of numbers as input and returns\n",
      "    the sum of all of those numbers. \"\"\"\n",
      "\n",
      "    total = 0\n",
      "\n",
      "    for shop in shoplist:\n",
      "        total += sum(shop)\n",
      "\n",
      "    return total\n",
      "\n",
      "shoptotal([[2,3], [3,4,5], [1,2]])"
     ],
     "language": "python",
     "metadata": {},
     "outputs": [
      {
       "metadata": {},
       "output_type": "pyout",
       "prompt_number": 25,
       "text": [
        "20"
       ]
      }
     ],
     "prompt_number": 25
    },
    {
     "cell_type": "code",
     "collapsed": false,
     "input": [
      "# Nested loops\n",
      "\n",
      "def shoptotal(shoplist):\n",
      "    \"\"\" Takes a list of lists of numbers as input and returns\n",
      "    the sum of all of those numbers. \"\"\"\n",
      "\n",
      "    total = 0\n",
      "\n",
      "    for shop in shoplist:\n",
      "        for number in shop:\n",
      "            total += number\n",
      "\n",
      "    return total\n",
      "\n",
      "shoptotal([[2,3], [3,4,5], [1,2]])"
     ],
     "language": "python",
     "metadata": {},
     "outputs": [
      {
       "metadata": {},
       "output_type": "pyout",
       "prompt_number": 26,
       "text": [
        "20"
       ]
      }
     ],
     "prompt_number": 26
    },
    {
     "cell_type": "code",
     "collapsed": false,
     "input": [
      "# While loops\n",
      "\n",
      "def fpot(n):\n",
      "    \"\"\" Takes a number n as input and returns the smallest power\n",
      "    of 2 that is greater than or equal to n.\"\"\"\n",
      "\n",
      "    power = 1 # 1 is the smallest power of 2\n",
      "    while power < n:\n",
      "        power = power * 2\n",
      "\n",
      "    return power\n",
      "\n",
      "fpot(100)"
     ],
     "language": "python",
     "metadata": {},
     "outputs": [
      {
       "metadata": {},
       "output_type": "pyout",
       "prompt_number": 27,
       "text": [
        "128"
       ]
      }
     ],
     "prompt_number": 27
    },
    {
     "cell_type": "code",
     "collapsed": false,
     "input": [
      "# For or While: for loop is preferable when we know in advance \n",
      "# how many times to loop whereas a while loop is ideal when we don't know in advance\n",
      "\n",
      "def find(DNA, pattern):\n",
      "    \"\"\" Takes a DNA string and a pattern string as input and\n",
      "    returns the list of starting indices where the pattern\n",
      "    string is found in the DNA string. \"\"\"\n",
      "\n",
      "    indexlist = []\n",
      "\n",
      "    for i in range(0, len(DNA)):\n",
      "        if DNA[i:i+len(pattern)] == pattern: #  Python is clever enough to realise that the ending index is not correct, and it will reduce the index to len(DNA) automatically\n",
      "            indexlist.append(i)\n",
      "\n",
      "    return indexlist\n",
      "\n",
      "find('CTAGACTAGCC', 'TAG')"
     ],
     "language": "python",
     "metadata": {},
     "outputs": [
      {
       "metadata": {},
       "output_type": "pyout",
       "prompt_number": 28,
       "text": [
        "[1, 6]"
       ]
      }
     ],
     "prompt_number": 28
    },
    {
     "cell_type": "code",
     "collapsed": false,
     "input": [
      "# a more complicate findcoding\n",
      "\n",
      "def findcoding(DNA):\n",
      "    \"\"\" Takes a DNA strings as input and finds the first coding\n",
      "    region in that string.\"\"\"\n",
      "\n",
      "    for i in range(0,len(DNA)):\n",
      "        # if the next 3 symbols are a start codon\n",
      "        if DNA[i:i+3] == \"ATG\":\n",
      "            # The starting position of the next codon\n",
      "            j = i + 3\n",
      "\n",
      "            while DNA[j:j+3] != \"TAG\" and \\\n",
      "                  DNA[j:j+3] != \"TAA\" and \\\n",
      "                  DNA[j:j+3] != \"TGA\":\n",
      "                \n",
      "           # while not DNA[j:j+3] in [\"TAG\", \"TAA\", \"TGA\"]:\n",
      "                        \n",
      "                # move three positions to the next codon\n",
      "                j += 3\n",
      "\n",
      "            # return the coding slice\n",
      "            return DNA[i:j+3]\n",
      "    \n",
      "findcoding('GGATGAAATAGCC')"
     ],
     "language": "python",
     "metadata": {},
     "outputs": [
      {
       "metadata": {},
       "output_type": "pyout",
       "prompt_number": 30,
       "text": [
        "'ATGAAATAG'"
       ]
      }
     ],
     "prompt_number": 30
    }
   ],
   "metadata": {}
  }
 ]
}