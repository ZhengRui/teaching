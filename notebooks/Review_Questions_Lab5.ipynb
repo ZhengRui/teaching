{
 "metadata": {
  "name": "",
  "signature": "sha256:ef7a0ce92e9bdc3e1b8239bf23ccf9f80253dc1bfa363f685f14bcc9375889fd"
 },
 "nbformat": 3,
 "nbformat_minor": 0,
 "worksheets": [
  {
   "cells": [
    {
     "cell_type": "code",
     "collapsed": false,
     "input": [
      "def pow(x,y):\n",
      "    ''' takes two numbers x and y as input and computes xy.'''\n",
      "    \n",
      "    if not (isinstance(y, int) and y >= 0):\n",
      "        print('y should be non-negative integer')\n",
      "        return\n",
      "    \n",
      "    if y == 0:\n",
      "        return 1\n",
      "    else:\n",
      "        return x * pow(x, y-1)\n",
      "    \n",
      "pow(2, 5)"
     ],
     "language": "python",
     "metadata": {},
     "outputs": [
      {
       "metadata": {},
       "output_type": "pyout",
       "prompt_number": 1,
       "text": [
        "32"
       ]
      }
     ],
     "prompt_number": 1
    },
    {
     "cell_type": "code",
     "collapsed": false,
     "input": [
      "def member(item, L):\n",
      "    '''returns True if item is an element of \n",
      "    list L and returns False otherwise. '''\n",
      "    \n",
      "    # print(L)\n",
      "    if not len(L):\n",
      "        return False\n",
      "    else:\n",
      "        if item == L[0]:\n",
      "            return True\n",
      "        else:\n",
      "            return member(item, L[1:])\n",
      "        \n",
      "print(member(3, [1, 2, 3, 4]), member(3, [2, 4, 6, 8]))"
     ],
     "language": "python",
     "metadata": {},
     "outputs": [
      {
       "output_type": "stream",
       "stream": "stdout",
       "text": [
        "True False\n"
       ]
      }
     ],
     "prompt_number": 2
    },
    {
     "cell_type": "code",
     "collapsed": false,
     "input": [
      "from turtle import *\n",
      "\n",
      "def pattern(number, length):\n",
      "    ''' draws number squares, each with the given side length. '''\n",
      "    \n",
      "    speed(10)\n",
      "    tiltAngle = 360 / number\n",
      "    pointing = 0\n",
      "    while pointing < 360:\n",
      "        for i in range(4):\n",
      "            forward(length)\n",
      "            left(90)\n",
      "        left(tiltAngle)\n",
      "        pointing += tiltAngle\n",
      "        \n",
      "reset()\n",
      "pattern(6,100)\n",
      "\n",
      "reset()\n",
      "pattern(20, 100)\n",
      "\n",
      "reset()\n",
      "pattern(16, 100)"
     ],
     "language": "python",
     "metadata": {},
     "outputs": [],
     "prompt_number": 3
    },
    {
     "cell_type": "code",
     "collapsed": false,
     "input": [
      "def triangle(length, level):\n",
      "    ''' draw Sierpinski triangle '''\n",
      "    \n",
      "    speed(10)\n",
      "    if level == 1:\n",
      "        forward(length)\n",
      "        left(120)\n",
      "        forward(length)\n",
      "        left(120)\n",
      "        forward(length)\n",
      "        left(120)\n",
      "    else:\n",
      "        triangle(length / 2, level - 1)\n",
      "        forward(length / 2)\n",
      "        triangle(length / 2, level - 1)\n",
      "        left(120)\n",
      "        forward(length / 2)\n",
      "        right(120)\n",
      "        triangle(length / 2, level -1)\n",
      "        right(120)\n",
      "        forward(length / 2)\n",
      "        left(120)\n",
      "        \n",
      "        \n",
      "reset()\n",
      "triangle(320, 5)"
     ],
     "language": "python",
     "metadata": {},
     "outputs": [],
     "prompt_number": 4
    }
   ],
   "metadata": {}
  }
 ]
}