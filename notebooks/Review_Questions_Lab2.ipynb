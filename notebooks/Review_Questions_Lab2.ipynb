{
 "metadata": {
  "name": "",
  "signature": "sha256:b0aeeac9462c13ca91d1f9b677dd3cf7d9350187fa9239b043636f5193c6c226"
 },
 "nbformat": 3,
 "nbformat_minor": 0,
 "worksheets": [
  {
   "cells": [
    {
     "cell_type": "code",
     "collapsed": false,
     "input": [
      "def even(num):\n",
      "    ''' takes as input an integer and returns True \n",
      "    if that integer is even and False otherwise. '''\n",
      "    \n",
      "    if num % 2: return False\n",
      "    return True\n",
      "\n",
      "print(even(1), even(2), even(3), even(12))"
     ],
     "language": "python",
     "metadata": {},
     "outputs": [
      {
       "output_type": "stream",
       "stream": "stdout",
       "text": [
        "False True False True\n"
       ]
      }
     ],
     "prompt_number": 1
    },
    {
     "cell_type": "code",
     "collapsed": false,
     "input": [
      "def absolute(num):\n",
      "    ''' takes as input a number and returns its absolute value. '''\n",
      "    \n",
      "    if num < 0:\n",
      "        return -num\n",
      "    return num\n",
      "\n",
      "print(absolute(1), absolute(0), absolute(-1))"
     ],
     "language": "python",
     "metadata": {},
     "outputs": [
      {
       "output_type": "stream",
       "stream": "stdout",
       "text": [
        "1 0 1\n"
       ]
      }
     ],
     "prompt_number": 2
    },
    {
     "cell_type": "code",
     "collapsed": false,
     "input": [
      "def firstword(sentence):\n",
      "    ''' takes as input a string representing a sentence \n",
      "    and returns the first word in that sentence '''\n",
      "    \n",
      "    fstWord = ''\n",
      "    \n",
      "    i = 0\n",
      "    while sentence[i] != ' ':\n",
      "        fstWord = fstWord + sentence[i]\n",
      "        i += 1\n",
      "            \n",
      "    return fstWord\n",
      "\n",
      "firstword('hello world')    "
     ],
     "language": "python",
     "metadata": {},
     "outputs": [
      {
       "metadata": {},
       "output_type": "pyout",
       "prompt_number": 3,
       "text": [
        "'hello'"
       ]
      }
     ],
     "prompt_number": 3
    },
    {
     "cell_type": "code",
     "collapsed": false,
     "input": [
      "def harmonic(n):\n",
      "    ''' sum 1 + 1/2 + 1/3 + ... + 1/n '''\n",
      "    \n",
      "    sum = 0\n",
      "    for i in range(1,n+1):\n",
      "        sum += 1/i\n",
      "        \n",
      "    return sum\n",
      "\n",
      "harmonic(5)"
     ],
     "language": "python",
     "metadata": {},
     "outputs": [
      {
       "metadata": {},
       "output_type": "pyout",
       "prompt_number": 4,
       "text": [
        "2.283333333333333"
       ]
      }
     ],
     "prompt_number": 4
    },
    {
     "cell_type": "code",
     "collapsed": false,
     "input": [
      "def palindrome(string):\n",
      "    ''' takes a string as input and returns True if it is a palindrome and False otherwise '''\n",
      "    \n",
      "    strLen = len(string)\n",
      "        \n",
      "    for i in range(strLen // 2):\n",
      "        if string[i] != string[strLen - 1 - i]:\n",
      "            return False\n",
      "        \n",
      "    return True\n",
      "\n",
      "print(palindrome('abcd'), palindrome('abc'), palindrome('abba'), palindrome('abcba'), palindrome([1,2,3,2,1]))"
     ],
     "language": "python",
     "metadata": {},
     "outputs": [
      {
       "output_type": "stream",
       "stream": "stdout",
       "text": [
        "False False True True True\n"
       ]
      }
     ],
     "prompt_number": 5
    },
    {
     "cell_type": "code",
     "collapsed": false,
     "input": [
      "def supercount(lol, query):\n",
      "    ''' takes as input a list of lists and an item and returns a count of how many times that item appears in the lists'''\n",
      "    \n",
      "    count = 0\n",
      "    for l in lol:\n",
      "        for item in l:\n",
      "            if item == query: \n",
      "                count += 1\n",
      "                \n",
      "    return count\n",
      "\n",
      "print(supercount([ [9, 9, 2], [3, 9], [5, 9, 9] ], 9))"
     ],
     "language": "python",
     "metadata": {},
     "outputs": [
      {
       "output_type": "stream",
       "stream": "stdout",
       "text": [
        "5\n"
       ]
      }
     ],
     "prompt_number": 6
    },
    {
     "cell_type": "code",
     "collapsed": false,
     "input": [
      "def harmonic(n):\n",
      "    ''' takes as input a number n and returns \n",
      "    the sum 1/1+ 1/2 + 1/3 + ... + 1/n, the \"nth harmonic number\" '''\n",
      "    \n",
      "    sum = 0\n",
      "    i = 1\n",
      "    while i <= n:\n",
      "        sum += 1/i\n",
      "        i += 1\n",
      "    \n",
      "    return sum\n",
      "    \n",
      "def reach(val):\n",
      "    ''' takes a number k as input and returns the first value \n",
      "    of n such that 1/1 + 1/2 + 1/3 + ... + 1/n is at least k'''\n",
      "    \n",
      "    k = 1\n",
      "    while harmonic(k) < val:\n",
      "        k += 1\n",
      "    return k\n",
      "\n",
      "print(harmonic(5), reach(10))  # reach(10) may take a few seconds"
     ],
     "language": "python",
     "metadata": {},
     "outputs": [
      {
       "output_type": "stream",
       "stream": "stdout",
       "text": [
        "2.283333333333333 12367\n"
       ]
      }
     ],
     "prompt_number": 7
    },
    {
     "cell_type": "code",
     "collapsed": false,
     "input": [
      "def unique(lst):\n",
      "    '''  take as input a list of numbers, with some numbers possibly repeated, \n",
      "    and return a new list in which each number in the original list appears exactly once'''\n",
      "    uniLst = []\n",
      "    for l in lst:\n",
      "        if l not in uniLst:\n",
      "            uniLst.append(l)\n",
      "\n",
      "    return uniLst\n",
      "\n",
      "unique([1,2,1,3,4,3])"
     ],
     "language": "python",
     "metadata": {},
     "outputs": [
      {
       "metadata": {},
       "output_type": "pyout",
       "prompt_number": 8,
       "text": [
        "[1, 2, 3, 4]"
       ]
      }
     ],
     "prompt_number": 8
    },
    {
     "cell_type": "code",
     "collapsed": false,
     "input": [
      "# using while\n",
      "def unique(lst):\n",
      "    uniLst = []\n",
      "    i = 0\n",
      "    while i < len(lst):\n",
      "        if lst[i] not in uniLst:\n",
      "            uniLst.append(lst[i])\n",
      "        i += 1\n",
      "        \n",
      "    return uniLst\n",
      "\n",
      "unique([1,3,4,5,3,2,8,5,3,4])"
     ],
     "language": "python",
     "metadata": {},
     "outputs": [
      {
       "metadata": {},
       "output_type": "pyout",
       "prompt_number": 9,
       "text": [
        "[1, 3, 4, 5, 2, 8]"
       ]
      }
     ],
     "prompt_number": 9
    }
   ],
   "metadata": {}
  }
 ]
}