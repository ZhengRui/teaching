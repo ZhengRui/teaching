{
 "metadata": {
  "name": "",
  "signature": "sha256:90354d89fde9c7742c4b96e1efa92a48a28d4755af8d134b0e2fc8520006511a"
 },
 "nbformat": 3,
 "nbformat_minor": 0,
 "worksheets": [
  {
   "cells": [
    {
     "cell_type": "code",
     "collapsed": false,
     "input": [
      "# scope concept revised\n",
      "\n",
      "def firstfunc(x):\n",
      "    print(\"The value of x in firstfunc(x) is: \" + str(x))\n",
      "    answer = secondfunc(x + 5) + x\n",
      "    print(\"The value of x in firstfunc(x) is: \" + str(x))\n",
      "    return answer\n",
      "\n",
      "def secondfunc(x):\n",
      "    print(\"The value of x in secondfunc(x) is: \" + str(x))\n",
      "    x = 1\n",
      "    print(\"The value of x in secondfunc(x) is: \" + str(x))\n",
      "    return x + 10\n",
      "\n",
      "firstfunc(10)"
     ],
     "language": "python",
     "metadata": {},
     "outputs": [
      {
       "output_type": "stream",
       "stream": "stdout",
       "text": [
        "The value of x in firstfunc(x) is: 10\n",
        "The value of x in secondfunc(x) is: 15\n",
        "The value of x in secondfunc(x) is: 1\n",
        "The value of x in firstfunc(x) is: 10\n"
       ]
      },
      {
       "metadata": {},
       "output_type": "pyout",
       "prompt_number": 1,
       "text": [
        "21"
       ]
      }
     ],
     "prompt_number": 1
    },
    {
     "cell_type": "code",
     "collapsed": false,
     "input": [
      "# simple recursion example\n",
      "\n",
      "def recursivefunc(x):\n",
      "    print(\"The value of x in recursivefunc(x) is: \" + str(x))\n",
      "    if x < 20:\n",
      "        answer = recursivefunc(x + 5) + x\n",
      "    else:\n",
      "        answer = x\n",
      "    print(\"The value of x in recursivefunc(x) is: \" + str(x))\n",
      "    return answer\n",
      "\n",
      "recursivefunc(10)"
     ],
     "language": "python",
     "metadata": {},
     "outputs": [
      {
       "output_type": "stream",
       "stream": "stdout",
       "text": [
        "The value of x in recursivefunc(x) is: 10\n",
        "The value of x in recursivefunc(x) is: 15\n",
        "The value of x in recursivefunc(x) is: 20\n",
        "The value of x in recursivefunc(x) is: 20\n",
        "The value of x in recursivefunc(x) is: 15\n",
        "The value of x in recursivefunc(x) is: 10\n"
       ]
      },
      {
       "metadata": {},
       "output_type": "pyout",
       "prompt_number": 2,
       "text": [
        "45"
       ]
      }
     ],
     "prompt_number": 2
    },
    {
     "cell_type": "code",
     "collapsed": false,
     "input": [
      "# classical example of factorial function\n",
      "\n",
      "def factorial(n):\n",
      "    \"\"\" Recursive function for computing factorial of n. \"\"\"\n",
      "    if n == 1:\n",
      "        return 1\n",
      "    else:\n",
      "        result = n * factorial(n-1)\n",
      "        return result\n",
      "    \n",
      "factorial(5)"
     ],
     "language": "python",
     "metadata": {},
     "outputs": [
      {
       "metadata": {},
       "output_type": "pyout",
       "prompt_number": 3,
       "text": [
        "120"
       ]
      }
     ],
     "prompt_number": 3
    },
    {
     "cell_type": "code",
     "collapsed": false,
     "input": [
      "# load turtle graphics module\n",
      "\n",
      "from turtle import *\n",
      "\n",
      "# draw a square\n",
      "def square(length):\n",
      "    \"\"\" Draws a square with the given side length \"\"\"\n",
      "\n",
      "    for i in range(4):\n",
      "        forward(length)\n",
      "        right(90)\n",
      "\n",
      "reset()\n",
      "square(100)"
     ],
     "language": "python",
     "metadata": {},
     "outputs": [],
     "prompt_number": 4
    },
    {
     "cell_type": "code",
     "collapsed": false,
     "input": [
      "reset()\n",
      "pencolor(\"purple\") # turtle changes to purple pen\n",
      "speed(10)          # set speed\n",
      "\n",
      "# Draw a spiral structure from the center of the window\n",
      "# outwards using a for loop\n",
      "for i in range(0, 400, 2):\n",
      "    forward(i)\n",
      "    right(89)\n",
      "\n",
      "# Draw another spiral structure from the outside of the window\n",
      "# towards the center of the window using another for loop\n",
      "for i in range(401, 0, -2):\n",
      "    forward(i)\n",
      "    right(89)"
     ],
     "language": "python",
     "metadata": {},
     "outputs": [],
     "prompt_number": 5
    },
    {
     "cell_type": "code",
     "collapsed": false,
     "input": [
      "# draw polygons using recursion\n",
      "\n",
      "def poly(length, angle, sides):\n",
      "    if sides == 0:\n",
      "        return\n",
      "    else:\n",
      "        forward(length)\n",
      "        right(angle)\n",
      "        poly(length, angle, sides-1)\n",
      "        \n",
      "reset()\n",
      "poly(100, 40, 5)"
     ],
     "language": "python",
     "metadata": {},
     "outputs": [],
     "prompt_number": 6
    },
    {
     "cell_type": "code",
     "collapsed": false,
     "input": [
      "# class example\n",
      "\n",
      "import datetime # Needed by get_age() when it calculates the age\n",
      "\n",
      "class Person:\n",
      "    def __init__(self, name, date_of_birth, money, description):\n",
      "        '''\n",
      "        The constructor of the Person class which initializes\n",
      "        the attributes of the class\n",
      "        '''\n",
      "\n",
      "        # Initialize the attribute \"name\"\n",
      "        self.name = name\n",
      "        # Initialize the attribute \"date_of_birth\"\n",
      "        self.date_of_birth = date_of_birth\n",
      "        # Initialize the attribute \"money\"\n",
      "        self.money = money\n",
      "        # Initialize the attribute \"description\"\n",
      "        self.description = description\n",
      "\n",
      "    def give_money(self, amount, targetPerson):\n",
      "        '''\n",
      "        Give money from this person object to the target person\n",
      "        '''\n",
      "\n",
      "        # Decrease the attribute \"money\" of this object\n",
      "        self.money = self.money - amount\n",
      "\n",
      "        # Then increase the money of the target instance\n",
      "        # with the same amount\n",
      "        targetPerson.money = targetPerson.money + amount\n",
      "\n",
      "    def get_age(self):\n",
      "        '''\n",
      "        Get the age of this person object\n",
      "        '''\n",
      "\n",
      "        # Get today's date\n",
      "        today = datetime.date.today()\n",
      "\n",
      "        # Split the day, month and year from the\n",
      "        # date_of_birth attribute and store them\n",
      "        # into d, m and y variables\n",
      "        [d,m,y] = self.date_of_birth.split(\"/\")\n",
      "\n",
      "        # Return the age\n",
      "        return today.year - int(y)\n",
      "    "
     ],
     "language": "python",
     "metadata": {},
     "outputs": [],
     "prompt_number": 7
    },
    {
     "cell_type": "code",
     "collapsed": false,
     "input": [
      "\n",
      "kitty = Person(\"Hello Kitty\", \"13/12/1984\", 10000, \\\n",
      "\"Very energetic and loves to play outdoors\")\n",
      "\n",
      "mary = Person(\"Mary White\", \"28/11/1960\", 50000, \\\n",
      "\"Very kind and loving, and loves to cook\")\n",
      "\n",
      "george = Person(\"George White\", \"15/10/1957\", 100000, \\\n",
      "\"Hardworking and dependable, but has a good sense of humor\")\n",
      "\n",
      "mimi = Person(\"Mimi White\", \"13/12/1984\", 5000, \\\n",
      "\"Kitty's twin sister. She wears a ribbon on her right ear\")\n",
      "\n",
      "print(george.get_age(), mary.money)\n",
      "mary.give_money(500, kitty)\n",
      "print(mary.money, kitty.money)\n",
      "\n",
      "\n",
      "if (kitty.money > mary.money):\n",
      "    print(kitty.name + \" is richer.\")\n",
      "elif (mary.money > kitty.money):\n",
      "    print(mary.name + \" is richer.\")\n",
      "else:\n",
      "    print(\"They have same amount of money\")\n",
      "    \n",
      "if (kitty.get_age() > mary.get_age()):\n",
      "    print(kitty.name + \" is older.\")\n",
      "elif (mary.get_age() > kitty.get_age()):\n",
      "    print(mary.name + \" is older.\")\n",
      "else:\n",
      "    print(\"They have same age.\")"
     ],
     "language": "python",
     "metadata": {},
     "outputs": [
      {
       "output_type": "stream",
       "stream": "stdout",
       "text": [
        "57 50000\n",
        "49500 10500\n",
        "Mary White is richer.\n",
        "Mary White is older.\n"
       ]
      }
     ],
     "prompt_number": 8
    },
    {
     "cell_type": "code",
     "collapsed": false,
     "input": [
      "# review question\n",
      "john = Person(\"John\", \"15/6/1984\", 1000, \"Rich man\")\n",
      "paul = Person(\"Paul\", \"4/8/1974\", 100, \"Poor man\")\n",
      "mary = Person(\"Mary\", \"19/3/1992\", 2000, \"Young lady\")\n",
      "\n",
      "if mary.get_age() < john.get_age():\n",
      "    mary.give_money(1000, john)\n",
      "    \n",
      "if mary.money > john.money:\n",
      "    mary.give_money(500, paul)\n",
      "else:\n",
      "    john.give_money(500, paul)\n",
      "    \n",
      "print(mary.money, paul.money, john.money)"
     ],
     "language": "python",
     "metadata": {},
     "outputs": [
      {
       "output_type": "stream",
       "stream": "stdout",
       "text": [
        "1000 600 1500\n"
       ]
      }
     ],
     "prompt_number": 9
    }
   ],
   "metadata": {}
  }
 ]
}