{
 "metadata": {
  "name": "",
  "signature": "sha256:d760a28492187cdc6e5af13e369dca85e095cb9ff9aa3dec473155a76dd63d81"
 },
 "nbformat": 3,
 "nbformat_minor": 0,
 "worksheets": [
  {
   "cells": [
    {
     "cell_type": "code",
     "collapsed": false,
     "input": [
      "def neighbors(input, row, col):\n",
      "    ''' takes a 2D array named input, a row index, and a column index as input and \n",
      "    returns the number of neighbors of array[row][col] that are 1's '''\n",
      "    \n",
      "    sum = 0\n",
      "    for i in range(max(0, row - 1), min(len(input), row + 2)):\n",
      "        for j in range(max(0, col - 1), min(len(input[0]), col + 2)):\n",
      "          #  print(i, j, input[i][j], sum)\n",
      "            if (i != row or j != col) and input[i][j] == 1:\n",
      "                sum += 1\n",
      "            \n",
      "    return sum\n",
      "\n",
      "bigArray = [\n",
      "[0, 1, 1, 1, 1, 0, 0, 0],\n",
      "[1, 0, 0, 0, 0, 1, 0, 1],\n",
      "[0, 0, 1, 0, 0, 0, 0, 0],\n",
      "[0, 0, 0, 0, 0, 0, 0, 0],\n",
      "[0, 0, 0, 1, 1, 0, 1, 1],\n",
      "[0, 0, 0, 0, 0, 1, 0, 1],\n",
      "[1, 1, 1, 0, 0, 0, 1, 0],\n",
      "[1, 0, 1, 0, 0, 0, 0, 1]\n",
      "]\n",
      "\n",
      "print(neighbors(bigArray, 3, 3), neighbors(bigArray, 5, 6), neighbors(bigArray, 4, 1), neighbors(bigArray, 7, 1))"
     ],
     "language": "python",
     "metadata": {},
     "outputs": [
      {
       "output_type": "stream",
       "stream": "stdout",
       "text": [
        "3 5 0 5\n"
       ]
      }
     ],
     "prompt_number": 1
    },
    {
     "cell_type": "code",
     "collapsed": false,
     "input": [
      "def nextgen(input):\n",
      "    ''' takes as input a list which is a 2D array of the current generation of creatures and returns \n",
      "    a new list which is a 2D array of the same size representing the next generation of the array, \n",
      "    according to the rules of Life.'''\n",
      "    \n",
      "    output = []\n",
      "    rows = len(input)\n",
      "    cols = len(input[0])\n",
      "    \n",
      "    for i in range(0, rows):\n",
      "        newrow = []\n",
      "        for j in range(0, cols):\n",
      "            if input[i][j] == 1:\n",
      "                if neighbors(input, i, j) == 2 or neighbors(input, i, j) == 3:\n",
      "                    newrow.append(1)\n",
      "                else:\n",
      "                    newrow.append(0)\n",
      "            else:\n",
      "                if neighbors(input, i, j) == 3:\n",
      "                    newrow.append(1)\n",
      "                else:\n",
      "                    newrow.append(0)\n",
      "                    \n",
      "        output.append(newrow)\n",
      "        \n",
      "    return output\n",
      "\n",
      "\n",
      "start = [[1, 0, 0, 1], [0, 0, 0, 1], [1, 0, 0, 0], [1, 1, 1, 1]]\n",
      "firstGen = nextgen(start)\n",
      "print(firstGen)\n",
      "print(start)\n",
      "secondGen = nextgen(firstGen)\n",
      "print(secondGen)\n",
      "thirdGen = nextgen(secondGen)\n",
      "print(thirdGen)\n",
      "fourthGen = nextgen(thirdGen)\n",
      "print(fourthGen)\n",
      "fifthGen = nextgen(fourthGen)\n",
      "print(fifthGen)"
     ],
     "language": "python",
     "metadata": {},
     "outputs": [
      {
       "output_type": "stream",
       "stream": "stdout",
       "text": [
        "[[0, 0, 0, 0], [0, 0, 0, 0], [1, 0, 0, 1], [1, 1, 1, 0]]\n",
        "[[1, 0, 0, 1], [0, 0, 0, 1], [1, 0, 0, 0], [1, 1, 1, 1]]\n",
        "[[0, 0, 0, 0], [0, 0, 0, 0], [1, 0, 1, 0], [1, 1, 1, 0]]\n",
        "[[0, 0, 0, 0], [0, 0, 0, 0], [1, 0, 1, 0], [1, 0, 1, 0]]\n",
        "[[0, 0, 0, 0], [0, 0, 0, 0], [0, 0, 0, 0], [0, 0, 0, 0]]\n",
        "[[0, 0, 0, 0], [0, 0, 0, 0], [0, 0, 0, 0], [0, 0, 0, 0]]\n"
       ]
      }
     ],
     "prompt_number": 2
    }
   ],
   "metadata": {}
  }
 ]
}