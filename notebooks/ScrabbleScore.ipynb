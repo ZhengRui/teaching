{
 "metadata": {
  "name": "",
  "signature": "sha256:f7f457620614aa8e2398ac8a4aaa75a06645156cb3e06a4d4b54a86d520fc527"
 },
 "nbformat": 3,
 "nbformat_minor": 0,
 "worksheets": [
  {
   "cells": [
    {
     "cell_type": "code",
     "collapsed": false,
     "input": [
      "# A list of lists storing the Scrabble\n",
      "# scores of all of the 26 letters\n",
      "values = [ [\"a\", 1], [\"b\", 3], [\"c\", 3], [\"d\", 2], [\"e\", 1], \\\n",
      "[\"f\", 4], [\"g\", 2], [\"h\", 4], [\"i\", 1], [\"j\", 8], [\"k\", 5], \\\n",
      "[\"l\", 1], [\"m\", 3], [\"n\", 1], [\"o\", 1], [\"p\", 3], [\"q\", 10], \\\n",
      "[\"r\", 1], [\"s\", 1], [\"t\", 1], [\"u\", 1], [\"v\", 4], [\"w\", 4], \\\n",
      "[\"x\", 8], [\"y\", 4], [\"z\", 10] ]"
     ],
     "language": "python",
     "metadata": {},
     "outputs": [],
     "prompt_number": 1
    },
    {
     "cell_type": "code",
     "collapsed": false,
     "input": [
      "def letterScore(letter):\n",
      "    \"\"\"\n",
      "    This function takes a single letter as input and\n",
      "    returns the score for that letter.\n",
      "    \"\"\"\n",
      "    \n",
      "    # Use a loop to find the letter\n",
      "    for value in values:         # \"for i in range(len(values))\" is not recommended\n",
      "        if letter == value[0]:\n",
      "            return value[1]\n",
      "    \n",
      "    print(letter, \"'s value is not defined, return 0 instead! \\n\")\n",
      "    return 0 #"
     ],
     "language": "python",
     "metadata": {},
     "outputs": [],
     "prompt_number": 2
    },
    {
     "cell_type": "code",
     "collapsed": false,
     "input": [
      "# Test letterScore function\n",
      "print(letterScore(\"m\"), letterScore(\"z\"))\n",
      "print(letterScore(\"@\"))"
     ],
     "language": "python",
     "metadata": {},
     "outputs": [
      {
       "output_type": "stream",
       "stream": "stdout",
       "text": [
        "3 10\n",
        "@ 's value is not defined, return 0 instead! \n",
        "\n",
        "0\n"
       ]
      }
     ],
     "prompt_number": 3
    },
    {
     "cell_type": "code",
     "collapsed": false,
     "input": [
      "def scrabbleScore(word):\n",
      "    \"\"\"\n",
      "    This function takes a single word as input and returns\n",
      "    the total score of all of the letters in the word.\n",
      "    \"\"\"\n",
      "\n",
      "    # Inititalize the total score to be 0\n",
      "    totalScore = 0\n",
      "\n",
      "    for letter in word:\n",
      "        totalScore += letterScore(letter)\n",
      "\n",
      "    # Return the total score\n",
      "    return totalScore"
     ],
     "language": "python",
     "metadata": {},
     "outputs": [],
     "prompt_number": 4
    },
    {
     "cell_type": "code",
     "collapsed": false,
     "input": [
      "# Test scrabbleScore function\n",
      "print(scrabbleScore('cat'), scrabbleScore('apple'), scrabbleScore('python'), \n",
      "      scrabbleScore('quetzal'), scrabbleScore('jonquil'), scrabbleScore('syzygy'))"
     ],
     "language": "python",
     "metadata": {},
     "outputs": [
      {
       "output_type": "stream",
       "stream": "stdout",
       "text": [
        "5 9 14 25 23 25\n"
       ]
      }
     ],
     "prompt_number": 5
    }
   ],
   "metadata": {}
  }
 ]
}