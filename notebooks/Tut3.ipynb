{
 "metadata": {
  "name": "",
  "signature": "sha256:3b3123c809e9fbcc00a6c19b61b5881ba739084fa6f524699f9e14d28ad2dd31"
 },
 "nbformat": 3,
 "nbformat_minor": 0,
 "worksheets": [
  {
   "cells": [
    {
     "cell_type": "code",
     "collapsed": false,
     "input": [
      "# two dimensional array\n",
      "\n",
      "creatures = [ [0, 0, 0, 0], [1, 1, 0, 1], [0, 0, 0, 1] ]\n",
      "\n",
      "# get rows and cols by len(creatures) and len(creatures[0])\n",
      "\n",
      "print(len(creatures), len(creatures[0]))"
     ],
     "language": "python",
     "metadata": {},
     "outputs": [
      {
       "output_type": "stream",
       "stream": "stdout",
       "text": [
        "3 4\n"
       ]
      }
     ],
     "prompt_number": 1
    },
    {
     "cell_type": "code",
     "collapsed": false,
     "input": [
      "# exchange 0 and 1 inside an 2d array\n",
      "\n",
      "def change(array):\n",
      "    \"\"\" Takes a list representing a 2D array as input and\n",
      "    returns a list representing the array in which 0's are\n",
      "    changed to 1's and 1's are changed to 0's. \"\"\"\n",
      "\n",
      "    rows = len(array)\n",
      "    columns = len(array[0])\n",
      "\n",
      "    for row in range(rows):\n",
      "        for column in range(columns):\n",
      "            \n",
      "            # using if-else way\n",
      "            if array[row][column] == 0:\n",
      "                array[row][column] = 1\n",
      "            else:\n",
      "                array[row][column] = 0\n",
      "                \n",
      "            # another simpler way\n",
      "            #array[row][column] = 1 - array[row][column]\n",
      "\n",
      "    return array # return statement can be omitted as 2d array passed inside will be changed globally\n",
      "\n",
      "newcreatures = change(creatures)\n",
      "\n",
      "print(newcreatures)\n",
      "print(creatures)"
     ],
     "language": "python",
     "metadata": {},
     "outputs": [
      {
       "output_type": "stream",
       "stream": "stdout",
       "text": [
        "[[1, 1, 1, 1], [0, 0, 1, 0], [1, 1, 1, 0]]\n",
        "[[1, 1, 1, 1], [0, 0, 1, 0], [1, 1, 1, 0]]\n"
       ]
      }
     ],
     "prompt_number": 2
    },
    {
     "cell_type": "code",
     "collapsed": false,
     "input": [
      "# what if we don't want to change the original array passed inside\n",
      "# need to manually create another array and set its value\n",
      "\n",
      "def change(input):\n",
      "    \"\"\" Takes a list representing a 2D array as input and\n",
      "    returns a new list representing the array in which 0's\n",
      "    are changed to 1's and 1's are changed to 0's. \"\"\"\n",
      "\n",
      "    output = [] # our output array is initially empty\n",
      "    rows = len(input)\n",
      "    columns = len(input[0])\n",
      "\n",
      "    for row in range(rows):\n",
      "        newrow = [] # for each row in the input array\n",
      "                    # we create a new row in the output array\n",
      "        for column in range(columns):\n",
      "            # For each item in the current row\n",
      "            # add the \"opposite\" item in the new row\n",
      "            newrow.append(1 - input[row][column])\n",
      "\n",
      "        output.append(newrow) # add this new row to output\n",
      "\n",
      "    return output\n",
      "\n",
      "newcreatures = change(creatures)\n",
      "print(newcreatures)\n",
      "print(creatures)"
     ],
     "language": "python",
     "metadata": {},
     "outputs": [
      {
       "output_type": "stream",
       "stream": "stdout",
       "text": [
        "[[0, 0, 0, 0], [1, 1, 0, 1], [0, 0, 0, 1]]\n",
        "[[1, 1, 1, 1], [0, 0, 1, 0], [1, 1, 1, 0]]\n"
       ]
      }
     ],
     "prompt_number": 3
    },
    {
     "cell_type": "code",
     "collapsed": false,
     "input": [
      "# do not index an empty list\n",
      "\n",
      "def change(input):\n",
      "    \"\"\" Takes a list representing a 2D array as input and\n",
      "    returns a list representing the array in which 0's are\n",
      "    changed to 1's and 1's are changed to 0's. However, the\n",
      "    code shown below does not work! \"\"\"\n",
      "\n",
      "    output = [] # our output array is initially empty\n",
      "    rows = len(input)\n",
      "    columns = len(input[0])\n",
      "\n",
      "    for row in range(rows):\n",
      "        for column in range(columns):\n",
      "            # For each item in the current row\n",
      "            # add the \"opposite\" item in the new row\n",
      "            output[row][column] = 1 - input[row][column]\n",
      "\n",
      "    return output\n",
      "\n",
      "newcreatures = change(creatures)"
     ],
     "language": "python",
     "metadata": {},
     "outputs": [
      {
       "ename": "IndexError",
       "evalue": "list index out of range",
       "output_type": "pyerr",
       "traceback": [
        "\u001b[1;31m---------------------------------------------------------------------------\u001b[0m\n\u001b[1;31mIndexError\u001b[0m                                Traceback (most recent call last)",
        "\u001b[1;32m<ipython-input-4-521433d76736>\u001b[0m in \u001b[0;36m<module>\u001b[1;34m()\u001b[0m\n\u001b[0;32m     19\u001b[0m     \u001b[1;32mreturn\u001b[0m \u001b[0moutput\u001b[0m\u001b[1;33m\u001b[0m\u001b[0m\n\u001b[0;32m     20\u001b[0m \u001b[1;33m\u001b[0m\u001b[0m\n\u001b[1;32m---> 21\u001b[1;33m \u001b[0mnewcreatures\u001b[0m \u001b[1;33m=\u001b[0m \u001b[0mchange\u001b[0m\u001b[1;33m(\u001b[0m\u001b[0mcreatures\u001b[0m\u001b[1;33m)\u001b[0m\u001b[1;33m\u001b[0m\u001b[0m\n\u001b[0m",
        "\u001b[1;32m<ipython-input-4-521433d76736>\u001b[0m in \u001b[0;36mchange\u001b[1;34m(input)\u001b[0m\n\u001b[0;32m     15\u001b[0m             \u001b[1;31m# For each item in the current row\u001b[0m\u001b[1;33m\u001b[0m\u001b[1;33m\u001b[0m\u001b[0m\n\u001b[0;32m     16\u001b[0m             \u001b[1;31m# add the \"opposite\" item in the new row\u001b[0m\u001b[1;33m\u001b[0m\u001b[1;33m\u001b[0m\u001b[0m\n\u001b[1;32m---> 17\u001b[1;33m             \u001b[0moutput\u001b[0m\u001b[1;33m[\u001b[0m\u001b[0mrow\u001b[0m\u001b[1;33m]\u001b[0m\u001b[1;33m[\u001b[0m\u001b[0mcolumn\u001b[0m\u001b[1;33m]\u001b[0m \u001b[1;33m=\u001b[0m \u001b[1;36m1\u001b[0m \u001b[1;33m-\u001b[0m \u001b[0minput\u001b[0m\u001b[1;33m[\u001b[0m\u001b[0mrow\u001b[0m\u001b[1;33m]\u001b[0m\u001b[1;33m[\u001b[0m\u001b[0mcolumn\u001b[0m\u001b[1;33m]\u001b[0m\u001b[1;33m\u001b[0m\u001b[0m\n\u001b[0m\u001b[0;32m     18\u001b[0m \u001b[1;33m\u001b[0m\u001b[0m\n\u001b[0;32m     19\u001b[0m     \u001b[1;32mreturn\u001b[0m \u001b[0moutput\u001b[0m\u001b[1;33m\u001b[0m\u001b[0m\n",
        "\u001b[1;31mIndexError\u001b[0m: list index out of range"
       ]
      }
     ],
     "prompt_number": 4
    },
    {
     "cell_type": "code",
     "collapsed": false,
     "input": [
      "# print a list\n",
      "\n",
      "def printExample1():\n",
      "\n",
      "    mylist = [1, 2, 3, 4, 5]\n",
      "\n",
      "    for item in mylist:\n",
      "        print(item)\n",
      "\n",
      "    return\n",
      "\n",
      "printExample1()"
     ],
     "language": "python",
     "metadata": {},
     "outputs": [
      {
       "output_type": "stream",
       "stream": "stdout",
       "text": [
        "1\n",
        "2\n",
        "3\n",
        "4\n",
        "5\n"
       ]
      }
     ],
     "prompt_number": 5
    },
    {
     "cell_type": "code",
     "collapsed": false,
     "input": [
      "# print a list, without starting from a new line\n",
      "\n",
      "def printExample2():\n",
      "\n",
      "    mylist = [1, 2, 3, 4, 5]\n",
      "\n",
      "    for item in mylist:\n",
      "        print(item, end=\" \")\n",
      "       # print(str(item) + \":\", end=\" \") \n",
      "\n",
      "    return\n",
      "\n",
      "printExample2()"
     ],
     "language": "python",
     "metadata": {},
     "outputs": [
      {
       "output_type": "stream",
       "stream": "stdout",
       "text": [
        "1 2 3 4 5 "
       ]
      }
     ],
     "prompt_number": 6
    },
    {
     "cell_type": "code",
     "collapsed": false,
     "input": [
      "# simple animation \n",
      "\n",
      "import time\n",
      "from IPython.display import clear_output\n",
      "\n",
      "# Set the number of seconds that have passed to zero\n",
      "sec = 0\n",
      "\n",
      "while True: # Repeat forever\n",
      "    # This method of clearing the screen is for the IDLE\n",
      "    # environment\n",
      "    print(\"\\n\" * 1)\n",
      "\n",
      "    # Show the number of seconds that have passed\n",
      "    print(sec)\n",
      "    if sec % 10 == 0:\n",
      "        clear_output() # clear_output for notebook\n",
      "\n",
      "    # Wait for 1 second\n",
      "    time.sleep(1)\n",
      "\n",
      "    # Update the number of seconds that have passed\n",
      "    sec += 1"
     ],
     "language": "python",
     "metadata": {},
     "outputs": [
      {
       "output_type": "stream",
       "stream": "stdout",
       "text": [
        "\n",
        "\n",
        "31\n",
        "\n"
       ]
      },
      {
       "output_type": "stream",
       "stream": "stdout",
       "text": [
        "\n",
        "32\n",
        "\n"
       ]
      },
      {
       "output_type": "stream",
       "stream": "stdout",
       "text": [
        "\n",
        "33\n",
        "\n"
       ]
      },
      {
       "output_type": "stream",
       "stream": "stdout",
       "text": [
        "\n",
        "34\n"
       ]
      },
      {
       "ename": "KeyboardInterrupt",
       "evalue": "",
       "output_type": "pyerr",
       "traceback": [
        "\u001b[1;31m---------------------------------------------------------------------------\u001b[0m\n\u001b[1;31mKeyboardInterrupt\u001b[0m                         Traceback (most recent call last)",
        "\u001b[1;32m<ipython-input-7-76cae350882b>\u001b[0m in \u001b[0;36m<module>\u001b[1;34m()\u001b[0m\n\u001b[0;32m     18\u001b[0m \u001b[1;33m\u001b[0m\u001b[0m\n\u001b[0;32m     19\u001b[0m     \u001b[1;31m# Wait for 1 second\u001b[0m\u001b[1;33m\u001b[0m\u001b[1;33m\u001b[0m\u001b[0m\n\u001b[1;32m---> 20\u001b[1;33m     \u001b[0mtime\u001b[0m\u001b[1;33m.\u001b[0m\u001b[0msleep\u001b[0m\u001b[1;33m(\u001b[0m\u001b[1;36m1\u001b[0m\u001b[1;33m)\u001b[0m\u001b[1;33m\u001b[0m\u001b[0m\n\u001b[0m\u001b[0;32m     21\u001b[0m \u001b[1;33m\u001b[0m\u001b[0m\n\u001b[0;32m     22\u001b[0m     \u001b[1;31m# Update the number of seconds that have passed\u001b[0m\u001b[1;33m\u001b[0m\u001b[1;33m\u001b[0m\u001b[0m\n",
        "\u001b[1;31mKeyboardInterrupt\u001b[0m: "
       ]
      }
     ],
     "prompt_number": 7
    }
   ],
   "metadata": {}
  }
 ]
}